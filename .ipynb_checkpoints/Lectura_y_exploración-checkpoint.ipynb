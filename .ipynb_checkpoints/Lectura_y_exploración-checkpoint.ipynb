{
 "cells": [
  {
   "cell_type": "markdown",
   "id": "17bc840b",
   "metadata": {},
   "source": [
    "# Importación y lectura de las bases de datos"
   ]
  },
  {
   "cell_type": "code",
   "execution_count": 1,
   "id": "396b5b0b",
   "metadata": {},
   "outputs": [],
   "source": [
    "from google.cloud import bigquery                      # librerias para trabajar con bigquery\n",
    "from google.oauth2 import service_account\n",
    "\n",
    "# direccion local de archivo JSON con las credenciales del proyecto\n",
    "path_pk = 'python_pk_trabajo_analitica.json'           \n",
    "         \n",
    "credentials = service_account.Credentials.from_service_account_file(path_pk)         # lectura credenciales\n",
    "project_id = 'sunlit-inn-353723'                                                     # id del projecto\n",
    "client = bigquery.Client(credentials= credentials, project=project_id)               # creacion del client para trabajar en python"
   ]
  },
  {
   "cell_type": "code",
   "execution_count": 16,
   "id": "d5d1e432",
   "metadata": {},
   "outputs": [],
   "source": [
    "# querys para las tablas a importar desde bigquery\n",
    "query_cv = \"SELECT * FROM `sunlit-inn-353723.trabajo_final_analitica.condiciones_vida`\"     \n",
    "query_vi = \"SELECT * FROM `sunlit-inn-353723.trabajo_final_analitica.violen_intfam`\"\n",
    "query_sc = \"SELECT * FROM `sunlit-inn-353723.trabajo_final_analitica.suicidios`\"\n",
    "\n",
    "# importacion de las tablas como df's\n",
    "cv_df = client.query(query_cv).to_dataframe()             # df para condiciones de vida\n",
    "vi_df = client.query(query_vi).to_dataframe()             # df para violencia intrafamiliar\n",
    "sc_df = client.query(query_sc).to_dataframe()             # df para suicidios"
   ]
  },
  {
   "cell_type": "code",
   "execution_count": 4,
   "id": "3a52d8dd",
   "metadata": {},
   "outputs": [],
   "source": [
    "cv_df.set_index('localidad', inplace=True)"
   ]
  }
 ],
 "metadata": {
  "kernelspec": {
   "display_name": "Python 3 (ipykernel)",
   "language": "python",
   "name": "python3"
  },
  "language_info": {
   "codemirror_mode": {
    "name": "ipython",
    "version": 3
   },
   "file_extension": ".py",
   "mimetype": "text/x-python",
   "name": "python",
   "nbconvert_exporter": "python",
   "pygments_lexer": "ipython3",
   "version": "3.9.12"
  }
 },
 "nbformat": 4,
 "nbformat_minor": 5
}
