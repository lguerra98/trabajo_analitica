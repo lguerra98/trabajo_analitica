{
 "cells": [
  {
   "cell_type": "markdown",
   "id": "4ee131a2",
   "metadata": {},
   "source": [
    "# Importación y lectura de las bases de datos"
   ]
  },
  {
   "cell_type": "markdown",
   "id": "e27e9b77",
   "metadata": {},
   "source": [
    "### Con big-query"
   ]
  },
  {
   "cell_type": "code",
   "execution_count": null,
   "id": "396b5b0b",
   "metadata": {},
   "outputs": [],
   "source": [
    "from google.cloud import bigquery                      # librerias para trabajar con bigquery\n",
    "from google.oauth2 import service_account\n",
    "\n",
    "# direccion local de archivo JSON con las credenciales del proyecto\n",
    "path_pk = 'python_pk_trabajo_analitica.json'           \n",
    "         \n",
    "credentials = service_account.Credentials.from_service_account_file(path_pk)         # lectura credenciales\n",
    "project_id = 'sunlit-inn-353723'                                                     # id del projecto\n",
    "client = bigquery.Client(credentials= credentials, project=project_id)               # creacion del client para trabajar en python"
   ]
  },
  {
   "cell_type": "code",
   "execution_count": null,
   "id": "d5d1e432",
   "metadata": {},
   "outputs": [],
   "source": [
    "# querys para las tablas a importar desde bigquery\n",
    "query_cv = \"SELECT * FROM `sunlit-inn-353723.trabajo_final_analitica.condiciones_vida`\"     \n",
    "query_vi = \"SELECT * FROM `sunlit-inn-353723.trabajo_final_analitica.violen_intfam`\"\n",
    "query_sc = \"SELECT * FROM `sunlit-inn-353723.trabajo_final_analitica.suicidios`\"\n",
    "\n",
    "# importacion de las tablas como df's\n",
    "cv_df = client.query(query_cv).to_dataframe()             # df para condiciones de vida\n",
    "vi_df = client.query(query_vi).to_dataframe()             # df para violencia intrafamiliar\n",
    "sc_df = client.query(query_sc).to_dataframe()             # df para suicidios"
   ]
  },
  {
   "cell_type": "markdown",
   "id": "11622c56",
   "metadata": {},
   "source": [
    "### Desde la dirección de los datos"
   ]
  },
  {
   "cell_type": "code",
   "execution_count": 2,
   "id": "e21a587e",
   "metadata": {},
   "outputs": [],
   "source": [
    "import pandas as pd\n",
    "import unidecode as udc\n",
    "pd.options.display.float_format = '{:.2f}'.format\n",
    "\n",
    "# lectura de las bases de datos como data-frame con la dirección directa de las bases de datos\n",
    "cv_df = pd.read_csv('https://datosabiertos.bogota.gov.co/dataset/5e79c701-d02f-4220-a9ae-31c8def1cfab/resource/47c5207a-d597-4c9e-ad74-4fb980656bf8/download/osb_demografia-condicionesvida.csv', encoding='latin-1', delimiter=';', decimal=',')\n",
    "vi_df = pd.read_csv('https://datosabiertos.bogota.gov.co/dataset/a1e1ef90-10c0-436f-a290-d1f7c1cf2242/resource/ab4eeb6e-e7c1-4ec1-b3e5-eedc655bc8d7/download/osb_v-intrafamiliar.csv', encoding='latin-1', delimiter=';', decimal=',', thousands='.')\n",
    "sc_df = pd.read_csv('https://datosabiertos.bogota.gov.co/dataset/2b8464e3-3aca-4dcd-91a1-93dd06ddabbb/resource/f215cedd-46e0-44fe-ba4c-704afdc11a33/download/osb_saludmen-tsuicidiodesagregado.csv', encoding='latin-1', delimiter=';')\n",
    "\n",
    "\n",
    "# 'CLeaning' en los nombres y tipos de cada columna para un mejor acceso\n",
    "vi_df['Año'] = vi_df['Año'].str.extract(r'(\\d{4})').astype(int)\n",
    "vi_df.columns = [udc.unidecode(i) for i in vi_df.columns.str.lower().str.replace('.', '', regex=False).str.replace(' ', '_', regex=False)]\n",
    "cv_df.columns = cv_df.columns.str.lower().str.replace(' ', '_')\n",
    "sc_df.columns = [udc.unidecode(i) for i in sc_df.columns.str.lower().str.replace(' ', '_', regex=False)]\n",
    "\n",
    "\n",
    "dfs = [cv_df, vi_df, sc_df]              # lista de data-frames\n",
    "for i in dfs:\n",
    "    if 'ano' in i.columns:\n",
    "        i.rename(columns={'ano': 'year'}, inplace=True)\n",
    "        "
   ]
  },
  {
   "cell_type": "markdown",
   "id": "edbf534d",
   "metadata": {},
   "source": [
    "# Aplicacion de funciones"
   ]
  },
  {
   "cell_type": "markdown",
   "id": "ec741eb7",
   "metadata": {},
   "source": [
    "## Condiciones de vida"
   ]
  },
  {
   "cell_type": "markdown",
   "id": "34905ead",
   "metadata": {},
   "source": [
    "Descripción de la variable porcentaje por cada tipo de **condiciones de vida**"
   ]
  },
  {
   "cell_type": "code",
   "execution_count": null,
   "id": "46ce84a1",
   "metadata": {},
   "outputs": [],
   "source": [
    "cv_df.groupby('condiciones_de_vida')['porcentaje'].describe()"
   ]
  },
  {
   "cell_type": "markdown",
   "id": "1453e2da",
   "metadata": {},
   "source": [
    "\n",
    "\n"
   ]
  },
  {
   "cell_type": "markdown",
   "id": "6676be97",
   "metadata": {},
   "source": [
    "Porcentaje y tipo de **condicionesn de vida** mas alto por localidad"
   ]
  },
  {
   "cell_type": "code",
   "execution_count": null,
   "id": "c26dca80",
   "metadata": {},
   "outputs": [],
   "source": [
    "df = cv_df.groupby(['localidad'])[['porcentaje']].max()\n",
    "pd.merge(cv_df, df, how='inner', on=['localidad', 'porcentaje'])"
   ]
  },
  {
   "cell_type": "markdown",
   "id": "090cc7bf",
   "metadata": {},
   "source": [
    "         "
   ]
  },
  {
   "cell_type": "markdown",
   "id": "e6f6cf10",
   "metadata": {},
   "source": [
    "Localidad con la percepcion de **condicione de vida** *Muy Malo* más alta"
   ]
  },
  {
   "cell_type": "code",
   "execution_count": null,
   "id": "01ad2941",
   "metadata": {},
   "outputs": [],
   "source": [
    "pd.DataFrame(cv_df[(cv_df['condiciones_de_vida'] == 'Muy Malo')].max(), columns=['Info'])"
   ]
  },
  {
   "cell_type": "markdown",
   "id": "712bf1a2",
   "metadata": {},
   "source": [
    "## Violencia Intrafamiliar"
   ]
  },
  {
   "cell_type": "markdown",
   "id": "35e0952a",
   "metadata": {},
   "source": [
    "Valores nulos presentes por cada variable"
   ]
  },
  {
   "cell_type": "code",
   "execution_count": null,
   "id": "5f397257",
   "metadata": {},
   "outputs": [],
   "source": [
    "vi_df.isnull().sum()"
   ]
  },
  {
   "cell_type": "markdown",
   "id": "1e8a56f7",
   "metadata": {},
   "source": [
    "Completar los valores faltantes en la base de datos"
   ]
  },
  {
   "cell_type": "code",
   "execution_count": null,
   "id": "35005c88",
   "metadata": {},
   "outputs": [],
   "source": [
    "# completar valores faltantes en los numeros de casos con 0\n",
    "vi_df['no_casos'].fillna(0, inplace=True)                \n",
    "\n",
    "# completar valores faltantes en la tasa por 100mil habitantes con la operacion (no_casos/poblacion)*100000\n",
    "vi_df['tasa_por_100000'].fillna((vi_df['no_casos'][vi_df['tasa_por_100000'].isna()] / vi_df['poblacion'][vi_df['tasa_por_100000'].isna()])*100000, inplace=True)"
   ]
  },
  {
   "cell_type": "code",
   "execution_count": null,
   "id": "213f9e8b",
   "metadata": {},
   "outputs": [],
   "source": [
    "vi_df.isnull().sum()"
   ]
  },
  {
   "cell_type": "markdown",
   "id": "59ef15fc",
   "metadata": {},
   "source": [
    "Cantidad total de casos por **area** y su clasificacion en los percentiles"
   ]
  },
  {
   "cell_type": "code",
   "execution_count": null,
   "id": "52c53c60",
   "metadata": {
    "scrolled": true
   },
   "outputs": [],
   "source": [
    "# se omiten el area de distrito y el tipo de sexo Total general debido que son agregados de los demas grupos\n",
    "\n",
    "# data frame con la descripción estadisca de la suma de no_casos historicos por localidad \n",
    "df = vi_df[(vi_df['area'] != 'Distrito') & (vi_df['sexo'] != 'Total general')].groupby('area')['no_casos'].sum().describe()\n",
    "\n",
    "# rangos con la clasificación de los percentiles \n",
    "rng = pd.cut(vi_df['no_casos'], bins=df.loc['min':'max']).value_counts().index.unique()\n",
    "\n",
    "# suma de casos historicos por localidad excluyendo los totales\n",
    "tot = vi_df[(vi_df['area'] != 'Distrito') & (vi_df['sexo'] != 'Total general')].groupby('area')['no_casos'].sum()\n",
    "\n",
    "ar = []              # lista vacia para almacenar los datos del data-frame\n",
    "\n",
    "for i, j in zip(tot, tot.index):                                   # extracción de datos para el data-frame\n",
    "    for y, z in zip(rng, df.loc['25%':'max'].index):\n",
    "        if i in y:\n",
    "            ar.append([j, i, z])\n",
    "\n",
    "p = pd.DataFrame(ar, columns=['localidad', 'casos_totales', 'percentil'])             # definición del data-frame\n",
    "\n",
    "# insertar columna nivel de gravedad dependiendo de los percentiles en los que se encuentra cada localidad\n",
    "p['nivel_de_gravedad'] = p['percentil'].map({i:j for i,j in zip(df.loc['25%':'max'].index, ['leve', 'regular', 'grave', 'critico'])})\n",
    "\n",
    "p"
   ]
  },
  {
   "cell_type": "markdown",
   "id": "4c5ed34e",
   "metadata": {},
   "source": [
    "Porcentaje de violencia sufrida por **sexo** en todos los años"
   ]
  },
  {
   "cell_type": "code",
   "execution_count": null,
   "id": "166858fd",
   "metadata": {
    "scrolled": true
   },
   "outputs": [],
   "source": [
    "# total de casos por año\n",
    "tot_yr = vi_df[(vi_df['area'] != 'Distrito') & (vi_df['sexo'] != 'Total general')].groupby('year')['no_casos'].sum()\n",
    "\n",
    "# proporción de violencia sufrida por sexo en los distintos años\n",
    "df = pd.DataFrame(vi_df[(vi_df['area'] != 'Distrito') & (vi_df['sexo'] != 'Total general')].groupby(['year', 'sexo'])['no_casos'].sum()/tot_yr)\n",
    "\n",
    "df.columns = ['porcentaje_x_yr']         # aignacón del nombre de la columna\n",
    "\n",
    "df"
   ]
  },
  {
   "cell_type": "markdown",
   "id": "2b4836a9",
   "metadata": {},
   "source": [
    "## Suicidios\n"
   ]
  },
  {
   "cell_type": "markdown",
   "id": "65966d94",
   "metadata": {},
   "source": [
    "Comparación del numero de casos para cada **sexo** en las edades de 15 a 24 años, en los años _2020_ y _2021_"
   ]
  },
  {
   "cell_type": "code",
   "execution_count": null,
   "id": "5586c402",
   "metadata": {},
   "outputs": [],
   "source": [
    "# funcion de comparación\n",
    "def fun(yr1, yr2, df):\n",
    "    \n",
    "    # lista con los data-frames a comparar\n",
    "    dfs = [df.pivot_table(index=['year', 'grupo_de_edad'], columns=['sexo'], values='casos', aggfunc='sum').loc[i] for i in [yr1, yr2]]\n",
    "    \n",
    "    # union de los data-frames\n",
    "    r = dfs[0].join(dfs[1], lsuffix='_{}'.format(yr1), rsuffix='_{}'.format(yr2))\n",
    "    \n",
    "    return r.loc[r.index.str.contains(r'([1-2][5-9]\\sa\\s[1][7-9]|20 a 24)')]\n",
    "\n",
    "fun(2020,2021,sc_df)"
   ]
  },
  {
   "cell_type": "code",
   "execution_count": 14,
   "id": "42b76fbd",
   "metadata": {},
   "outputs": [
    {
     "name": "stderr",
     "output_type": "stream",
     "text": [
      "C:\\Users\\LUKAS\\AppData\\Local\\Temp\\ipykernel_9800\\160890547.py:15: UserWarning: This pattern is interpreted as a regular expression, and has match groups. To actually get the groups, use str.extract.\n",
      "  return r.loc[r.index.str.contains(r'([1-2][5-9]\\sa\\s[1][7-9]|20 a 24)')]\n"
     ]
    },
    {
     "data": {
      "text/html": [
       "<div>\n",
       "<style scoped>\n",
       "    .dataframe tbody tr th:only-of-type {\n",
       "        vertical-align: middle;\n",
       "    }\n",
       "\n",
       "    .dataframe tbody tr th {\n",
       "        vertical-align: top;\n",
       "    }\n",
       "\n",
       "    .dataframe thead th {\n",
       "        text-align: right;\n",
       "    }\n",
       "</style>\n",
       "<table border=\"1\" class=\"dataframe\">\n",
       "  <thead>\n",
       "    <tr style=\"text-align: right;\">\n",
       "      <th></th>\n",
       "      <th>Hombre_2021</th>\n",
       "      <th>Mujer_2021</th>\n",
       "      <th>Hombre_2020</th>\n",
       "      <th>Mujer_2020</th>\n",
       "    </tr>\n",
       "    <tr>\n",
       "      <th>grupo_de_edad</th>\n",
       "      <th></th>\n",
       "      <th></th>\n",
       "      <th></th>\n",
       "      <th></th>\n",
       "    </tr>\n",
       "  </thead>\n",
       "  <tbody>\n",
       "    <tr>\n",
       "      <th>15 a 17</th>\n",
       "      <td>18</td>\n",
       "      <td>8</td>\n",
       "      <td>14</td>\n",
       "      <td>12</td>\n",
       "    </tr>\n",
       "    <tr>\n",
       "      <th>18 a 19</th>\n",
       "      <td>16</td>\n",
       "      <td>6</td>\n",
       "      <td>16</td>\n",
       "      <td>12</td>\n",
       "    </tr>\n",
       "    <tr>\n",
       "      <th>20 a 24</th>\n",
       "      <td>86</td>\n",
       "      <td>28</td>\n",
       "      <td>88</td>\n",
       "      <td>24</td>\n",
       "    </tr>\n",
       "  </tbody>\n",
       "</table>\n",
       "</div>"
      ],
      "text/plain": [
       "               Hombre_2021  Mujer_2021  Hombre_2020  Mujer_2020\n",
       "grupo_de_edad                                                  \n",
       "15 a 17                 18           8           14          12\n",
       "18 a 19                 16           6           16          12\n",
       "20 a 24                 86          28           88          24"
      ]
     },
     "execution_count": 14,
     "metadata": {},
     "output_type": "execute_result"
    }
   ],
   "source": [
    "# funcion de comparación\n",
    "def fun(yr1, yr2, df):\n",
    "    \n",
    "    # lista con los data-frames a comparar\n",
    "    dfs = [df.pivot_table(index=['year', 'grupo_de_edad'], columns=['sexo'], values='casos', aggfunc='sum').loc[i] for i in [yr1, yr2]]\n",
    "    \n",
    "    # cambio de nombres en las columnas\n",
    "    for i,j in zip(dfs, [yr1, yr2]):\n",
    "        i.columns = ['{}_{}'.format(x, y) for x,y in zip(i.columns, [j]*2)]\n",
    "        \n",
    "    # union de los data-frames\n",
    "    r = pd.concat(dfs, axis=1)\n",
    "    \n",
    "    return r.loc[r.index.str.contains(r'([1-2][5-9]\\sa\\s[1][7-9]|20 a 24)')]\n",
    "     \n",
    "fun(2021, 2020, sc_df)"
   ]
  }
 ],
 "metadata": {
  "kernelspec": {
   "display_name": "Python 3 (ipykernel)",
   "language": "python",
   "name": "python3"
  },
  "language_info": {
   "codemirror_mode": {
    "name": "ipython",
    "version": 3
   },
   "file_extension": ".py",
   "mimetype": "text/x-python",
   "name": "python",
   "nbconvert_exporter": "python",
   "pygments_lexer": "ipython3",
   "version": "3.9.12"
  }
 },
 "nbformat": 4,
 "nbformat_minor": 5
}
