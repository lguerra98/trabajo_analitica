{
 "cells": [
  {
   "cell_type": "markdown",
   "id": "ZFgeqpJ6xQB8",
   "metadata": {
    "id": "ZFgeqpJ6xQB8"
   },
   "source": [
    "# Integrantes:\n",
    "\n",
    "- Alejandro Arango Molina\n",
    "- Lukas Guerra Escobar\n",
    "- Juan Andrés Ortega Grajales\n",
    "- Nilson Fernando Suarez Hernández"
   ]
  },
  {
   "cell_type": "markdown",
   "id": "4ee131a2",
   "metadata": {
    "id": "4ee131a2"
   },
   "source": [
    "# Importación de modulos y lectura de las bases de datos"
   ]
  },
  {
   "cell_type": "code",
   "execution_count": 2,
   "id": "e1f3ae64",
   "metadata": {
    "id": "e1f3ae64"
   },
   "outputs": [],
   "source": [
    "import pandas as pd\n",
    "import numpy as np\n",
    "import unidecode as udc\n",
    "import warnings\n",
    "import plotly.graph_objects as go \n",
    "import plotly.express as px\n",
    "pd.options.display.float_format = '{:.2f}'.format\n",
    "warnings.filterwarnings('ignore')"
   ]
  },
  {
   "cell_type": "code",
   "execution_count": 3,
   "id": "e21a587e",
   "metadata": {
    "id": "e21a587e"
   },
   "outputs": [],
   "source": [
    "# lectura de las bases de datos como data-frame con la dirección directa de las bases de datos\n",
    "cv_df = pd.read_csv('https://datosabiertos.bogota.gov.co/dataset/5e79c701-d02f-4220-a9ae-31c8def1cfab/resource/47c5207a-d597-4c9e-ad74-4fb980656bf8/download/osb_demografia-condicionesvida.csv', encoding='latin-1', delimiter=';', decimal=',')\n",
    "vi_df = pd.read_csv('https://datosabiertos.bogota.gov.co/dataset/a1e1ef90-10c0-436f-a290-d1f7c1cf2242/resource/ab4eeb6e-e7c1-4ec1-b3e5-eedc655bc8d7/download/osb_v-intrafamiliar.csv', encoding='latin-1', delimiter=';', decimal=',', thousands='.')\n",
    "sc_df = pd.read_csv('https://datosabiertos.bogota.gov.co/dataset/2b8464e3-3aca-4dcd-91a1-93dd06ddabbb/resource/f215cedd-46e0-44fe-ba4c-704afdc11a33/download/osb_saludmen-tsuicidiodesagregado.csv', encoding='latin-1', delimiter=';')"
   ]
  },
  {
   "cell_type": "markdown",
   "id": "8d4c5e1b",
   "metadata": {
    "id": "8d4c5e1b"
   },
   "source": [
    "# Descripción de las Bases de Datos\n",
    "\n",
    "Las bases de datos usadas fueron tomadas de la [pagina de datos abiertos](https://saludata.saludcapital.gov.co/osb/ \"SALUDATA | Observatorio de Salud de Bogotá\") de la Secretaria de Salud de Bogotá y corresponden a la siguiente informacion:\n",
    "\n",
    "- `cv_df`: Encuesta relizada en 2017 en la ciudad sobre la percepción de condición de vida de los habitantes. Disponible en el siguiente [enlace](https://datosabiertos.bogota.gov.co/dataset/5e79c701-d02f-4220-a9ae-31c8def1cfab \"Datos Abiertos Bogotá\").\n",
    "- `vi_df`: Datos de los casos de los diferentes tipos de violencia intrafamiliar en la ciudad por año desde 2012 hasta 2021. Disponible en el siguiente [enlace](https://datosabiertos.bogota.gov.co/dataset/a1e1ef90-10c0-436f-a290-d1f7c1cf2242 \"Datos Abiertos Bogotá\").\n",
    "- `sc_df`: Datos de los casos de suicidios en la ciudad por año desde 2015 hasta 2021. Disponible en el siguiente [enlace](https://datosabiertos.bogota.gov.co/dataset/2b8464e3-3aca-4dcd-91a1-93dd06ddabbb \"Datos Abiertos Bogotá\")."
   ]
  },
  {
   "cell_type": "markdown",
   "id": "c9517545",
   "metadata": {
    "id": "c9517545"
   },
   "source": [
    "# Tratamiento de valores, sintáxis y categorías"
   ]
  },
  {
   "cell_type": "code",
   "execution_count": 4,
   "id": "e4d493aa",
   "metadata": {
    "id": "e4d493aa"
   },
   "outputs": [],
   "source": [
    "# 'Cleaning' en los nombres y tipos de cada columna para un mejor acceso\n",
    "vi_df['Año'] = vi_df['Año'].str.extract(r'(\\d{4})').astype(int)\n",
    "vi_df.columns = [udc.unidecode(i) for i in vi_df.columns.str.lower().str.replace('.', '', regex=False).str.replace(' ', '_', regex=False)]\n",
    "cv_df.columns = cv_df.columns.str.lower().str.replace(' ', '_')\n",
    "sc_df.columns = [udc.unidecode(i) for i in sc_df.columns.str.lower().str.replace(' ', '_', regex=False)]\n",
    "\n",
    "dfs = [cv_df, vi_df, sc_df]              # lista de data-frames\n",
    "\n",
    "# Homologación de categorías\n",
    "for i in dfs:\n",
    "    if 'ano' in i.columns:\n",
    "        i.rename(columns={'ano': 'year'}, inplace=True)\n",
    "    if 'area' in i.columns:\n",
    "        i.rename(columns={'area':'localidad'}, inplace=True)\n",
    "        \n",
    "# Normalización de categorías        \n",
    "cv_df['localidad'] = cv_df['localidad'].map(udc.unidecode).str.lower().replace({'bogota d.c.': 'distrito'})\n",
    "sc_df['localidad'] = sc_df['localidad'].map(udc.unidecode).str.lower()\n",
    "vi_df['localidad'] = vi_df['localidad'].map(udc.unidecode).str.lower()\n",
    "\n",
    "cv_df['condiciones_de_vida'] = cv_df['condiciones_de_vida'].str.lower()\n",
    "vi_df['sexo'] = vi_df['sexo'].str.strip()\n",
    "\n",
    "# Completar valores faltantes en los numeros de casos con 0\n",
    "vi_df['no_casos'].fillna(0, inplace=True)                \n",
    "\n",
    "# Completar valores faltantes en la tasa por 100mil habitantes con la operacion (no_casos/poblacion)*100000\n",
    "vi_df['tasa_por_100000'].fillna((vi_df['no_casos']/vi_df['poblacion'])*100000, inplace=True)"
   ]
  },
  {
   "cell_type": "markdown",
   "id": "ffda9e96",
   "metadata": {
    "id": "ffda9e96"
   },
   "source": [
    "# Adición de información a los Data Frames (Transformaciones)"
   ]
  },
  {
   "cell_type": "code",
   "execution_count": 5,
   "id": "ea639603",
   "metadata": {
    "id": "ea639603"
   },
   "outputs": [],
   "source": [
    "# Columna adicional para identificar el grupo etáreo de cada grupo edad\n",
    "\n",
    "# Diccionario con grupos de edad y respectivo grupo etáreo\n",
    "dic = {'Niño': sc_df['grupo_de_edad'].unique()[:2], 'Joven': sc_df['grupo_de_edad'].unique()[2:5], 'Adulto': sc_df['grupo_de_edad'].unique()[5:12], 'Adulto Mayor': sc_df['grupo_de_edad'].unique()[12:-1]}\n",
    "\n",
    "# Creación columna adicional vacía\n",
    "sc_df['grupo_etario'] = np.nan\n",
    "\n",
    "# Llenado columna vacía\n",
    "for i in dic:\n",
    "    sc_df.loc[sc_df['grupo_de_edad'].isin(dic[i]),'grupo_etario'] = i"
   ]
  },
  {
   "cell_type": "code",
   "execution_count": 6,
   "id": "69354744",
   "metadata": {
    "id": "69354744"
   },
   "outputs": [],
   "source": [
    "# Columna adicional que lleve la población y la tasa de casos de suicidio por cada 100.000 habitantes\n",
    "\n",
    "# Obtener datos de población por cada año, localidad y sexo\n",
    "_1 = vi_df.groupby(['year', 'localidad', 'sexo'])[['year', 'localidad', 'sexo', 'poblacion']].sample(1) \n",
    "\n",
    "# Unión de la columna de población\n",
    "sc_df = sc_df.merge(_1, on=['year', 'localidad', 'sexo'], how='inner') \n",
    "\n",
    "# Creación de la columna de tasa por cada 100.000 habitantes\n",
    "sc_df['tasa_por_100000'] = (sc_df['casos']/sc_df['poblacion'])*100000 \n",
    "\n",
    "# Filtrado para llenar solo la información diferenciada por grupo de edad\n",
    "sc_df.loc[sc_df['grupo_de_edad'] != 'Todos los grupos', ['tasa_por_100000', 'poblacion']] = np.nan "
   ]
  },
  {
   "cell_type": "code",
   "execution_count": 10,
   "id": "Li-cNwcHS_yV",
   "metadata": {
    "id": "Li-cNwcHS_yV"
   },
   "outputs": [],
   "source": [
    "# Creacion de bodega de datos\n",
    "cv_df.to_csv('bases_de_datos/condicion_final.csv', sep=';', index=False)\n",
    "vi_df.to_csv('bases_de_datos/violencia_final.csv', sep=';', index=False)\n",
    "sc_df.to_csv('bases_de_datos/suicidio_final.csv', sep=';', index=False)"
   ]
  },
  {
   "cell_type": "code",
   "execution_count": 9,
   "id": "6f4a55da",
   "metadata": {},
   "outputs": [
    {
     "name": "stdout",
     "output_type": "stream",
     "text": [
      "<module 'ntpath' from 'C:\\\\Users\\\\Lukas\\\\anaconda3\\\\lib\\\\ntpath.py'>\n"
     ]
    }
   ],
   "source": [
    "import os\n"
   ]
  },
  {
   "cell_type": "markdown",
   "id": "a2eb42c9",
   "metadata": {
    "id": "a2eb42c9"
   },
   "source": [
    "# Análisis Descriptivo"
   ]
  },
  {
   "cell_type": "markdown",
   "id": "3qR-TS3nH8oW",
   "metadata": {
    "id": "3qR-TS3nH8oW"
   },
   "source": [
    "## Base Condiciones de vida"
   ]
  },
  {
   "cell_type": "markdown",
   "id": "97a8ea18",
   "metadata": {
    "id": "97a8ea18"
   },
   "source": [
    "### 1. ¿Cuál es el Porcentaje promedio de condiciones de vida total en Bogotá?"
   ]
  },
  {
   "cell_type": "code",
   "execution_count": null,
   "id": "317c14be",
   "metadata": {
    "colab": {
     "base_uri": "https://localhost:8080/",
     "height": 542
    },
    "id": "317c14be",
    "outputId": "8ec99a5f-d691-4353-9d26-d55a1d26ddb9"
   },
   "outputs": [],
   "source": [
    "# Creación del dataset\n",
    "df = cv_df.groupby(['condiciones_de_vida'], as_index=False)[['porcentaje']].mean()\n",
    "\n",
    "# Creación de gráfica\n",
    "fig = px.pie(df, values='porcentaje', names='condiciones_de_vida',\n",
    "            title='<b>Porcentaje promedio de condiciones de vida total en Bogotá<b>',\n",
    "            color_discrete_sequence=px.colors.qualitative.Safe, opacity=1, hover_data={'condiciones_de_vida':False, 'porcentaje':False})\n",
    "\n",
    "# Agregar detalles a gráfica\n",
    "fig.update_layout(title=dict(x=0.5))\n",
    "fig.update_traces(legendgrouptitle=dict(text='<b>Condición de vida</b><br>'), marker=dict(line=dict(color='black',width=1.3)),\n",
    "                 textinfo='percent', textfont=dict(color='black'))\n",
    "\n",
    "fig.show()"
   ]
  },
  {
   "cell_type": "markdown",
   "id": "MDr7W6zc0YtY",
   "metadata": {
    "id": "MDr7W6zc0YtY"
   },
   "source": [
    "**Interpretación:**\n",
    "\n",
    "Como se ve en el gráfico el porcentaje de personas que consideran que cuentan con una condición de vida \"buena\" es más de la mitad de la población mientras que \"muy malo\" es casi insignificante.\n",
    " "
   ]
  },
  {
   "cell_type": "markdown",
   "id": "cL8c1R6fIWuc",
   "metadata": {
    "id": "cL8c1R6fIWuc"
   },
   "source": [
    "## Base Suicidios"
   ]
  },
  {
   "cell_type": "markdown",
   "id": "11521002",
   "metadata": {
    "id": "11521002"
   },
   "source": [
    "### 2. ¿Cuál es la proporción de casos de suicidio por grupo etareo y por género?"
   ]
  },
  {
   "cell_type": "code",
   "execution_count": null,
   "id": "4024a0f8",
   "metadata": {
    "colab": {
     "base_uri": "https://localhost:8080/",
     "height": 542
    },
    "id": "4024a0f8",
    "outputId": "de4a7672-97a7-4893-cee3-b7bf85e7738c"
   },
   "outputs": [],
   "source": [
    "# Creación del dataset\n",
    "df = sc_df[sc_df['grupo_de_edad'] != 'Todos los grupos'].groupby(['grupo_etario', 'sexo'], as_index=False)[['casos']].sum()\n",
    "\n",
    "# Creación de gráfica\n",
    "fig = px.sunburst(df, path=['grupo_etario', 'sexo'], values='casos', color='grupo_etario', maxdepth=-1, color_discrete_sequence=px.colors.qualitative.T10,\n",
    "                 hover_name='grupo_etario',  hover_data={'grupo_etario':False,}, title='<b>Proporción de suicidios por grupo etario y género</b>')\n",
    "\n",
    "# Agregar detalles a gráfica\n",
    "fig.update_layout(title_x=0.5)\n",
    "fig.update_traces(textinfo='label+percent parent')\n",
    "fig.update_traces(hovertemplate='<b>%{id}</b><br><b>Suicidios</b>: %{value}<extra></extra>')\n",
    "\n",
    "fig.show()"
   ]
  },
  {
   "cell_type": "markdown",
   "id": "a81b3d4b",
   "metadata": {
    "id": "a81b3d4b"
   },
   "source": [
    "**Interpretacion:**\n",
    "\n",
    "En el gráfico se identifican las diferentes proporciones de cada grupo etario y en el siguiente nivel la proporción por cada sexo de este grupo, de resaltar la mayor propoción se da en los adultos (aunque sea el grupo etario con mayor rango de edad, es precupante la gran proporción) y también se observa que en todos los grupos etarios los hombres son los que más se suicidan."
   ]
  },
  {
   "cell_type": "markdown",
   "id": "37b0354e",
   "metadata": {
    "id": "37b0354e"
   },
   "source": [
    "### 3. ¿Cómo se comportan los casos de suicidio por grupo de edad cada año?"
   ]
  },
  {
   "cell_type": "code",
   "execution_count": null,
   "id": "2f65dddf",
   "metadata": {
    "colab": {
     "base_uri": "https://localhost:8080/",
     "height": 542
    },
    "id": "2f65dddf",
    "outputId": "aa270de1-ec4d-4bef-e60c-4e8587ec3363"
   },
   "outputs": [],
   "source": [
    "# Creación del dataset\n",
    "df = sc_df.loc[sc_df['grupo_de_edad'] != 'Todos los grupos'].groupby(['grupo_de_edad', 'year'], as_index=False)[['casos']].sum()\n",
    "\n",
    "# Creación de gráfica\n",
    "fig = px.bar(df,x='grupo_de_edad', y='casos', animation_frame='year', \n",
    "            title='<b>Casos de suicidio por grupo de edad cada año<b>', text='casos', template='plotly_white', range_y=[0, df['casos'].max()+20],\n",
    "            color_discrete_sequence=['#EA380C'], labels={'casos':'<b>Casos</b>', 'grupo_de_edad':'<b>Grupo de edad</b>', 'year':'<b>Año<b>'},\n",
    "            hover_data={'grupo_de_edad':False, 'casos':False, 'year':False}, hover_name='year')\n",
    "\n",
    "# Agregar detalles a gráfica\n",
    "fig.update_layout(title=dict(x=0.5))\n",
    "fig.update_traces(textposition='outside')\n",
    "\n",
    "for i in fig.frames:\n",
    "    i['data'][0]['textposition'] = 'outside'\n",
    "    \n",
    "fig.layout.updatemenus[0].buttons[0].args[1]['frame']['duration'] = 1000\n",
    "fig.layout.updatemenus[0].buttons[0].args[1]['transition']['duration'] = 500\n",
    "    \n",
    "fig.show()"
   ]
  },
  {
   "cell_type": "markdown",
   "id": "xLhyEIgC1aCT",
   "metadata": {
    "id": "xLhyEIgC1aCT"
   },
   "source": [
    "**Interpretación:**\n",
    "\n",
    "Como se observa en los gráficos, a través de los años se puede ver que los grupos de edad de 20 a 24 y 25 a 29 son los que más tienen casos de suicidio, también se aprecia que en el año 2020 (año donde aparece el COVID-19) hay una disminución considerable en los casos de cada grupo de edad."
   ]
  },
  {
   "cell_type": "markdown",
   "id": "ce947084",
   "metadata": {
    "id": "ce947084"
   },
   "source": [
    "### 4. ¿Cómo es la evolución anual de la tasa de suicidios por cien mil habitantes por cada localidad?"
   ]
  },
  {
   "cell_type": "code",
   "execution_count": null,
   "id": "f695f2a1",
   "metadata": {
    "colab": {
     "base_uri": "https://localhost:8080/",
     "height": 542
    },
    "id": "f695f2a1",
    "outputId": "efe416a9-73c5-4d3b-f3f6-902c68cb8a36"
   },
   "outputs": [],
   "source": [
    "# Creación del dataset\n",
    "df = sc_df[(sc_df['grupo_de_edad'] == 'Todos los grupos') & (sc_df['localidad'] != 'distrito')].groupby(['year', 'localidad'], as_index=False)[['poblacion', 'tasa_por_100000']].agg('sum', 'mean')\n",
    "\n",
    "# Creación de gráfica\n",
    "fig = px.line(df, x='year', y='tasa_por_100000', facet_col='localidad', facet_col_wrap=5, markers=True,\n",
    "              title='<b>Evolución anual de la tasa de suicidios por cada 100k habitantes por localidad<b>', template='plotly_white',\n",
    "              labels={'year':'<b>Año</b>', 'tasa_por_100000':'<b>Tasa por<br>100K habs</b>'}, color_discrete_sequence=['lightskyblue'], hover_name='localidad',\n",
    "              range_y=[-2, (df['tasa_por_100000'].max() + 5)])\n",
    "\n",
    "# Agregar detalles a gráfica\n",
    "fig.for_each_annotation(lambda a: a.update(text=a.text.title().split(\"=\")[-1]))\n",
    "fig.for_each_trace(lambda x: x.update(hovertemplate='<b>%{hovertext}</b><br><b>Año</b>=%{x}<br><b>Tasa</b>=%{y:.3}<extra></extra>')) \n",
    "fig.update_layout(title=dict(x=0.5))\n",
    "fig.update_xaxes(showgrid=False, showline=False, fixedrange=True, nticks=df['year'].nunique()+1)\n",
    "\n",
    "fig.show()"
   ]
  },
  {
   "cell_type": "markdown",
   "id": "SUMmfZ-n5Diu",
   "metadata": {
    "id": "SUMmfZ-n5Diu"
   },
   "source": [
    "**Interpretación:**\n",
    "\n",
    "En los gráficos de cada una de las localidades se puede ver la tasa de suicidios por cada 100.000 habitantes a lo largo de los años que en la mayoría tienen un comportamiento similar."
   ]
  },
  {
   "cell_type": "markdown",
   "id": "boKoIzr3yChf",
   "metadata": {
    "id": "boKoIzr3yChf"
   },
   "source": [
    "### 5. ¿Cuál es la evolución de los casos anuales de suicidio?"
   ]
  },
  {
   "cell_type": "code",
   "execution_count": null,
   "id": "ebac81bf",
   "metadata": {
    "colab": {
     "base_uri": "https://localhost:8080/",
     "height": 542
    },
    "id": "ebac81bf",
    "outputId": "a35c6d50-4d31-457b-9614-e4063c24ff2a"
   },
   "outputs": [],
   "source": [
    "# Creación del dataset\n",
    "df = sc_df.query(\"localidad == 'distrito' & grupo_de_edad == 'Todos los grupos'\").groupby('year', as_index=False)['casos'].sum()\n",
    "df['acum'] = df['casos'].cumsum()\n",
    "\n",
    "# Creación de gráfica\n",
    "fig = px.line(df, x='year', y='casos', markers=True, template='plotly_white', text='casos',\n",
    "             labels={'casos':'<b>Casos de suicidio</b>', 'year':'<b>Año</b>'}, title='<b>Casos anuales de suicidio<b>',\n",
    "             color_discrete_sequence=['rgba(30, 124, 55, 0.55)'], hover_data={'year':False, 'casos':False})\n",
    "\n",
    "# Agregar detalles a gráfica\n",
    "fig.update_layout(title={'x':0.5})\n",
    "fig.update_traces(textposition='top left', textfont={'size':16})\n",
    "fig.update_xaxes(showgrid=False, fixedrange=True)\n",
    "fig.update_yaxes(showgrid=False)\n",
    "fig.show()"
   ]
  },
  {
   "cell_type": "markdown",
   "id": "MAMOislrhc9q",
   "metadata": {
    "id": "MAMOislrhc9q"
   },
   "source": [
    "**Interpretación:**\n",
    "\n",
    "En este gráfico se muestra la evolución de los casos anuales de suicidio y se observa que había una tendencia creciente y en el 2019 fue el máximo de casos, pero a partir de este año se ve una tendencia a disminuir a pesar de la llegada de la pandemia del COVID-19."
   ]
  },
  {
   "cell_type": "markdown",
   "id": "bDIvBNCyqvHI",
   "metadata": {
    "id": "bDIvBNCyqvHI"
   },
   "source": [
    "### 6. ¿Cuáles son los años que más aportan a la cantidad de suicidios total?"
   ]
  },
  {
   "cell_type": "code",
   "execution_count": null,
   "id": "49b1dca6",
   "metadata": {
    "colab": {
     "base_uri": "https://localhost:8080/",
     "height": 542
    },
    "id": "49b1dca6",
    "outputId": "42009f67-625a-42e9-eb07-8c534eda414b"
   },
   "outputs": [],
   "source": [
    "# Creación del dataset\n",
    "df = sc_df.query(\"grupo_de_edad == 'Todos los grupos' & localidad == 'distrito'\").groupby('year', as_index=False)[['casos']].sum().sort_values('casos', ascending=False)\n",
    "df['porcentaje'] = df[['casos']].apply(lambda x: x.cumsum()/x.sum())\n",
    "df['year'] = df['year'].astype('string')\n",
    "\n",
    "# Creación de gráfica\n",
    "fig = go.Figure([go.Bar(x=df['year'], y=df['casos'], yaxis='y1', name='Suicidios', marker={'color':'rgba(182, 131, 227, 0.88)'}),\n",
    "                 go.Scatter(x=df['year'], y=df['porcentaje'], yaxis='y2', name='Porcentaje', hovertemplate='%{y:.1%}', marker={'color': '#000000'})])\n",
    "\n",
    "# Agregar detalles a gráfica\n",
    "fig.update_layout(template='plotly_white', showlegend=False, hovermode='x', bargap=.3,\n",
    "                  title={'text': '<b>Pareto suicidios por año<b>', 'x': .5}, \n",
    "                  yaxis={'title': '<b>Suicidios</b>', 'showgrid':False, 'fixedrange':True}, xaxis={'fixedrange':True},\n",
    "                  yaxis2={'fixedrange':True, 'showgrid':False, 'rangemode': \"tozero\", 'overlaying': 'y', 'position': 1, 'side': 'right', 'title': '<b>Porcentaje</b>', 'tickvals': np.arange(0, 1.1, .2), 'tickmode': 'array', 'ticktext': [str(i) + '%' for i in range(0, 101, 20)]})\n",
    "\n",
    "fig.show()"
   ]
  },
  {
   "cell_type": "markdown",
   "id": "87Bxxd1pJ7U4",
   "metadata": {
    "id": "87Bxxd1pJ7U4"
   },
   "source": [
    "**Interpretación:**\n",
    "\n",
    "Se realiza un diagrama de Pareto para analizar el comportamiento de la cantidad de suicidios observando los años en los que hubieron más casos y el porcentaje acumulado que aporta cada año al total. Se aprecia que las columnas tienen tamaños similares y hay una acumulación de los casos constantes, indicando así que cuando llegó la pandemia del COVID-19 no afectó en gran medida los casos de suicidio, en cambio disminuyeron a comparación de los otros años."
   ]
  },
  {
   "cell_type": "markdown",
   "id": "Kk6ZgIWFJRtU",
   "metadata": {
    "id": "Kk6ZgIWFJRtU"
   },
   "source": [
    "## Base Violencia Intrafamiliar"
   ]
  },
  {
   "cell_type": "markdown",
   "id": "8876b6e6",
   "metadata": {
    "id": "8876b6e6"
   },
   "source": [
    "### 7. ¿Cuál es la evolución de los casos de violencia de cada tipo por cada años?"
   ]
  },
  {
   "cell_type": "code",
   "execution_count": null,
   "id": "964cdac6",
   "metadata": {
    "colab": {
     "base_uri": "https://localhost:8080/",
     "height": 542
    },
    "id": "964cdac6",
    "outputId": "36ac9681-7b37-411b-d9f1-963df8afabdb"
   },
   "outputs": [],
   "source": [
    "# Creación del dataset\n",
    "df = vi_df[(vi_df['localidad'] != 'distrito') & (vi_df['sexo'] != 'Total general') & (vi_df['tipo_de_violencia'] != 'Intrafamiliar')]\n",
    "df = df.groupby(['tipo_de_violencia', 'year'], as_index=False)[['no_casos']].sum()\n",
    "df['tipo_de_violencia'].unique()\n",
    "\n",
    "# Creación de gráfica\n",
    "fig = px.line(df, x='year', y='no_casos', color='tipo_de_violencia',\n",
    "            labels={'no_casos':'<b>Casos<b>', 'tipo_de_violencia': '<b>Tipo de violencia<b>', 'year':'<b>Año<b>'}, \n",
    "            template='plotly_white',  title='<b>Evolución de casos por cada tipo de violencia a través de los años<b>',\n",
    "            markers=True, color_discrete_sequence=px.colors.qualitative.Bold)\n",
    "\n",
    "# Agregar detalles a gráfica\n",
    "fig.update_layout(title=dict(x=0.5), xaxis={'showgrid':False})\n",
    "\n",
    "fig.show()"
   ]
  },
  {
   "cell_type": "markdown",
   "id": "e5742f42",
   "metadata": {
    "id": "e5742f42"
   },
   "source": [
    "**Interpretación:**\n",
    "\n",
    "En el gráfico se presentan los casos de cada tipo de violencia y se evidencia que la violencia Emocional es la que más se presenta cada año, pero los valores de cada tipo se presentan relativamente constantes y similares cada año, pero a partir del año 2020 se empieza a ver un decrecimiento y en el 2021 se ve un descenso considerable de la cantidad total de casos de violencia intrafamiliar."
   ]
  },
  {
   "cell_type": "markdown",
   "id": "60e02887",
   "metadata": {
    "id": "60e02887"
   },
   "source": [
    "### 8. ¿Cuál es el porcentaje de los casos de cada tipo de violencia en la ciudad de Bogotá?"
   ]
  },
  {
   "cell_type": "code",
   "execution_count": null,
   "id": "5fdd6c0b",
   "metadata": {
    "colab": {
     "base_uri": "https://localhost:8080/",
     "height": 542
    },
    "id": "5fdd6c0b",
    "outputId": "5791f8d5-9bbd-4edf-c6a8-f068e1beb359"
   },
   "outputs": [],
   "source": [
    "# Creación del dataset\n",
    "df = vi_df.query(\"sexo == 'Total general' & localidad == 'distrito' & tipo_de_violencia != 'Intrafamiliar'\").groupby('tipo_de_violencia', as_index=False)[['no_casos']].sum()\n",
    "\n",
    "# Creación de gráfica\n",
    "fig = px.pie(df, values='no_casos', names='tipo_de_violencia', title='<b>Porcentaje de tipos de violencia en Bogotá</b>',\n",
    "            color_discrete_sequence=px.colors.qualitative.Vivid, hover_name='tipo_de_violencia', hole=0.5)\n",
    "\n",
    "# Agregar detalles a gráfica\n",
    "fig.update_traces(legendgrouptitle={'text':'<b>Tipo de violencia</b><br>'}, marker={'line':{'color':'white', 'width':1.5}},\n",
    "                 textfont={'color':'white'}, hovertemplate='<b>%{hovertext}</b><br>Casos:%{value:.2s}<extra></extra>',\n",
    "                 textposition='inside')\n",
    "fig.update_layout(title=dict(x=0.5), legend={'orientation':'h', 'title':{'side':'top left'}},\n",
    "                 annotations=[{'text':f'<b>Total<br>{int(df[\"no_casos\"].sum())}</b>', 'showarrow':False, 'font':{'size':25}}])\n",
    "\n",
    "fig.show()"
   ]
  },
  {
   "cell_type": "markdown",
   "id": "sz8olSQFJD7g",
   "metadata": {
    "id": "sz8olSQFJD7g"
   },
   "source": [
    "**Interpretación:**\n",
    "\n",
    "En este gráfico se presenta el procentaje total de cada tipo de violencia, en donde la Emocional representa casi la mitad de los casos y entre el Abandono y la Económica solo aportan el 5% de la totalidad. También se tiene el total de casos presentados en los años que se tiene información para entrar en contexto."
   ]
  },
  {
   "cell_type": "markdown",
   "id": "995e7f84",
   "metadata": {
    "id": "995e7f84"
   },
   "source": [
    "### 9. ¿Cómo es la evolución de la violencia intrafamiliar sufrida por género?\n"
   ]
  },
  {
   "cell_type": "code",
   "execution_count": null,
   "id": "747ec958",
   "metadata": {
    "colab": {
     "base_uri": "https://localhost:8080/",
     "height": 542
    },
    "id": "747ec958",
    "outputId": "520b04de-b493-4cfe-ea43-5acfaca00506"
   },
   "outputs": [],
   "source": [
    "# Creación del dataset\n",
    "df = vi_df[vi_df['sexo'] != 'Total general'].groupby(['sexo', 'year'], as_index=False)[['no_casos']].sum()\n",
    "df['year'] = df['year'].astype('category')\n",
    "\n",
    "# Creación de gráfica\n",
    "fig = px.line(df, x='year', y='no_casos', color='sexo', markers=True, symbol='sexo', template='plotly_white',\n",
    "            labels={'no_casos':'<b>Casos</b>', 'year':'<b>Año</b>', 'sexo':'Genero'}, title='<b>Violencia intrafamiliar sufrida por género</b>', \n",
    "            hover_name='year', hover_data={'sexo':False, 'year':False})\n",
    "\n",
    "# Agregar detalles a gráfica\n",
    "fig.update_traces(hovertemplate='<b>%{hovertext}</b><br><b>Casos</b>=%{y}<extra></extra>')\n",
    "fig.update_layout(xaxis=dict(showline=False, showgrid=False), title=dict(x=0.5))\n",
    "fig.update_xaxes(fixedrange=True)\n",
    "\n",
    "fig.show()"
   ]
  },
  {
   "cell_type": "markdown",
   "id": "ZEOqWXwizGw1",
   "metadata": {
    "id": "ZEOqWXwizGw1"
   },
   "source": [
    "**Interpretación:**\n",
    "\n",
    "Como se observa en la gráfica todos los años hay más casos de violencia intrafamiliar en las mujeres, cabe resaltar que en el año 2020 los casos en ambos sexos empiezan a bajar y se ve una disminución mayor en las mujeres\n"
   ]
  },
  {
   "cell_type": "markdown",
   "id": "o6jLSS5HJ9bR",
   "metadata": {
    "id": "o6jLSS5HJ9bR"
   },
   "source": [
    "## Relación entre Bases"
   ]
  },
  {
   "cell_type": "markdown",
   "id": "c_AMNifsrTss",
   "metadata": {
    "id": "c_AMNifsrTss"
   },
   "source": [
    "### 10. ¿Cuál es la relación entre casos de suicidio y casos de violencia por localidad por año?."
   ]
  },
  {
   "cell_type": "code",
   "execution_count": null,
   "id": "73203d03",
   "metadata": {
    "colab": {
     "base_uri": "https://localhost:8080/",
     "height": 542
    },
    "id": "73203d03",
    "outputId": "de92eba7-c2fb-4747-d910-b0bd9357a9f8"
   },
   "outputs": [],
   "source": [
    "# Creación del dataset\n",
    "_1 = sc_df.query(\"localidad != 'distrito' & grupo_de_edad == 'Todos los grupos'\").groupby(['year', 'localidad'], as_index=False)['casos'].sum()\n",
    "\n",
    "_2 = vi_df.query(\"localidad != 'distrito' & sexo == 'Total general' & tipo_de_violencia != 'Intrafamiliar'\").groupby(['year', 'localidad'], as_index=False)[['no_casos', 'poblacion']].agg('mean', lambda x: set(x))\n",
    "\n",
    "df = pd.merge(_1, _2, on=['localidad', 'year'], how='inner').rename(columns={'casos':'suicidios', 'no_casos':'violencia'})\n",
    "\n",
    "# Creación de gráfica\n",
    "fig = px.scatter(df, y='suicidios', x='violencia', color='localidad', animation_frame='year', size='poblacion',\n",
    "                color_discrete_sequence=px.colors.qualitative.Dark2, labels={'localidad':'<b>Localidad</b><br>', 'suicidios':'<b>Casos de suicidio</b>', 'violencia':'<b>Casos de violencia</b>', 'year':'Año'}, \n",
    "                template='plotly_white', hover_name='localidad', hover_data={'localidad':False, 'year':False, 'violencia':True, 'suicidios':True},\n",
    "                range_x=[-1, df['violencia'].max() + 80], range_y=[0.3, df['suicidios'].max() + 3], trendline='ols', trendline_scope='overall',\n",
    "                trendline_color_override='black')\n",
    "\n",
    "# Agregado de detalles y línea de tendencia a todos los frames de la gráfica\n",
    "for i,j in zip(df['year'].unique(), fig.frames):\n",
    "    df = df.copy()\n",
    "    df_1 = df[df['year'] == i]\n",
    "    j.data = px.scatter(df_1, y='suicidios', x='violencia', color='localidad', size='poblacion',\n",
    "                        color_discrete_sequence=px.colors.qualitative.Dark2, labels={'localidad':'<b>Localidad</b><br>', 'suicidios':'<b>Casos de suicidio</b>', 'violencia':'<b>Casos de violencia</b>', 'year':'Año'}, \n",
    "                        template='plotly_white', hover_name='localidad', hover_data={'localidad':False, 'year':False, 'violencia':True, 'suicidios':True},\n",
    "                        trendline='ols', trendline_scope='overall', trendline_color_override='black').data\n",
    "    j.layout['annotations'] = [{'text':r\"$\\rho={}$\".format(round(df.groupby('year').corr().loc[(i,'suicidios'), 'violencia'], 2)), 'showarrow':False,\n",
    "                                'font':{'size':13}, 'x':110, 'y':55}]\n",
    "\n",
    "# Agregar detalles a gráfica\n",
    "fig.update_xaxes(showgrid=False)\n",
    "fig.update_yaxes(showgrid=False)\n",
    "\n",
    "fig.update_layout(annotations=[{'text':r\"$\\rho={}$\".format(round(df.groupby('year').corr().loc[(2015,'suicidios'), 'violencia'], 2)), 'showarrow':False,\n",
    "                                'font':{'size':13}, 'x':110, 'y':55}])\n",
    "\n",
    "fig.update_traces(hovertemplate='<b>%{hovertext}</b><br><br>Casos de violencia=%{x:.3s}<br>Casos de suicidio=%{y}<br>Población=%{marker.size:}<extra></extra>')\n",
    "fig.data[-1]['showlegend'] = False\n",
    "fig.data[-1]['hovertemplate'] = '<extra></extra>'\n",
    "\n",
    "for x in fig.frames:\n",
    "    for i in x.data:\n",
    "        i['hovertemplate'] = '<b>%{hovertext}</b><br><br>Casos de violencia=%{x:.3s}<br>Casos de suicidio=%{y}<br>Población=%{marker.size:}<extra></extra>'\n",
    "\n",
    "fig.layout.sliders[0]['currentvalue']['prefix'] = '<b>Año</b>:'\n",
    "fig.layout.updatemenus[0].buttons[0].args[1]['frame']['duration'] = 1000\n",
    "fig.layout.updatemenus[0].buttons[0].args[1]['transition']['duration'] = 500\n",
    "\n",
    "for i in fig.frames:\n",
    "    i.data[-1]['showlegend'] = False\n",
    "    i.data[-1]['hovertemplate'] = '<extra></extra>'\n",
    "\n",
    "fig.show()"
   ]
  },
  {
   "cell_type": "markdown",
   "id": "Oujrp97ATKPY",
   "metadata": {
    "id": "Oujrp97ATKPY"
   },
   "source": [
    "**Interpretación:**\n",
    "\n",
    "En este gráfico de correlación se muestra la relación que hay entre los casos de suicidio y los casos de violencia por cada año y localidad, se observa que sí hay cierta relación y que a mayor cantidad de casos de violencia intrafamiliar suele haber más casos de suicidio, constatado por el coeficiente de Pearson que es cercano a 1. También se observa que el ancho de los círculos representa el total de la población, que debe ser tenido en cuenta ya que podría afectar el total de casos."
   ]
  },
  {
   "cell_type": "markdown",
   "id": "OmWqbLQ8xRC4",
   "metadata": {
    "id": "OmWqbLQ8xRC4"
   },
   "source": [
    "### 11. ¿Cuál es la relación del puntaje de percepción de vida mala y muy mala con la tasa de casos de violencia por cien mil habitantes por localidad en el año 2017?"
   ]
  },
  {
   "cell_type": "code",
   "execution_count": null,
   "id": "18d2c07a",
   "metadata": {
    "colab": {
     "base_uri": "https://localhost:8080/",
     "height": 542
    },
    "id": "18d2c07a",
    "outputId": "da008352-fd47-4dc4-df12-12f683b0672b"
   },
   "outputs": [],
   "source": [
    "# Creación del dataset\n",
    "_1 = vi_df.query(\"year == 2017 & localidad != 'distrito' & sexo == 'Total general' & tipo_de_violencia != 'Intrafamiliar'\").groupby('localidad', as_index=False)[['tasa_por_100000', 'poblacion']].agg('sum', lambda x: set(x))\n",
    "\n",
    "_2 = cv_df[cv_df['condiciones_de_vida'].isin(['malo', 'muy malo'])].groupby('localidad', as_index=False)['porcentaje'].sum()\n",
    "\n",
    "df = pd.merge(_1, _2, on='localidad', how='inner')\n",
    "\n",
    "# Creación de gráfica\n",
    "fig = px.scatter(df, y='porcentaje', x='tasa_por_100000', color='localidad', size='poblacion', template='plotly_white',\n",
    "                labels={'tasa_por_100000':'<b>Tasa de casos de violencia por cada 100K habitantes</b>', 'porcentaje':'<b>Puntaje de percepción de vida</b>', 'localidad':'<b>Localidad</b><br>'},\n",
    "                hover_name='localidad', hover_data={'localidad':False}, trendline='ols', trendline_scope='overall',\n",
    "                trendline_color_override='black', color_discrete_sequence=px.colors.qualitative.Alphabet, title='<b>Relación entre el puntaje de percepción de vida mala y muy mala<br>con la tasa de casos de violencia por cada 100K habitantes</b>')\n",
    "\n",
    "# Agregar detalles a gráfica\n",
    "fig.update_layout(title={'x':0.5}, annotations=[{'text':r\"$\\rho={}$\".format(round(df.corr().loc['porcentaje', 'tasa_por_100000'], 2)), 'showarrow':False,\n",
    "                                                 'font':{'size':13}, 'x':1500, 'y':2.7}])\n",
    "fig.update_traces(hovertemplate='<b>%{hovertext}</b><br><br>Tasa=%{x:.1f}<br>Puntaje=%{y}%<br>Población=%{marker.size}<extra></extra>')\n",
    "fig.update_xaxes(showgrid=False)\n",
    "fig.update_yaxes(showgrid=False)\n",
    "\n",
    "\n",
    "fig.data[-1]['showlegend'] = False\n",
    "fig.data[-1]['hovertemplate'] = '<extra></extra>'\n",
    "\n",
    "\n",
    "fig.show()"
   ]
  },
  {
   "cell_type": "markdown",
   "id": "Lw62tPzjbVyj",
   "metadata": {
    "id": "Lw62tPzjbVyj"
   },
   "source": [
    "**Interpretación:**\n",
    "\n",
    "En este gráfico se presenta la correlación entre el puntaje acumulado de la percepción de vida Mala y Muy mala y la tasa de casos por cada 100.000 habitantes y se observa que sí hay cierta correlación ya que la mayoría de los puntos están cerca a la línea, aunque el coeficiente de Pearson es igual a 0.46 lo cual indicaría que la correlación no es tan fuerte. También de resaltar que al usar la tasa por cada 100.000 habitantes, los resultados se encuentran normalizados de cierta forma y esto hace que las localidades con mayor población no tengan la mayor cantidad de casos y afecte la correlación."
   ]
  }
 ],
 "metadata": {
  "colab": {
   "collapsed_sections": [],
   "provenance": []
  },
  "kernelspec": {
   "display_name": "Python 3 (ipykernel)",
   "language": "python",
   "name": "python3"
  },
  "language_info": {
   "codemirror_mode": {
    "name": "ipython",
    "version": 3
   },
   "file_extension": ".py",
   "mimetype": "text/x-python",
   "name": "python",
   "nbconvert_exporter": "python",
   "pygments_lexer": "ipython3",
   "version": "3.9.12"
  }
 },
 "nbformat": 4,
 "nbformat_minor": 5
}
